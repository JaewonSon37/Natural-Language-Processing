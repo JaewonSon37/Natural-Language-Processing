{
  "cells": [
    {
      "cell_type": "code",
      "execution_count": null,
      "metadata": {
        "colab": {
          "base_uri": "https://localhost:8080/"
        },
        "id": "9ODDDl34tpXI",
        "outputId": "18fe81c7-c3a8-4d5a-f087-ec471fb94ec5"
      },
      "outputs": [],
      "source": [
        "!pip3 install nltk == 3.5\n",
        "import nltk\n",
        "nltk.download('omw-1.4')\n",
        "nltk.download('wordnet')\n",
        "nltk.download('punkt')\n",
        "nltk.download('stopwords')\n",
        "from nltk.corpus import wordnet\n",
        "from nltk import word_tokenize\n",
        "from nltk.corpus import stopwords"
      ]
    },
    {
      "cell_type": "code",
      "execution_count": null,
      "metadata": {
        "id": "BLmhvwfpAOUb"
      },
      "outputs": [],
      "source": [
        "# Function to disambiguate a word in a sentence and find the best sense\n",
        "def disambiguate(word, sentence, stopwords):\n",
        "\n",
        "        word_senses = wordnet.synsets(word)\n",
        "        best_sense = word_senses[0]\n",
        "        max_overlap = 0\n",
        "        context = set(word_tokenize(sentence))\n",
        "\n",
        "        for sense in word_senses:\n",
        "            signature = tokenized_gloss(sense)\n",
        "            overlap = compute_overlap(signature, context, stopwords)\n",
        "            if overlap > max_overlap:\n",
        "                max_overlap = overlap\n",
        "                best_sense = sense\n",
        "\n",
        "        return best_sense"
      ]
    },
    {
      "cell_type": "code",
      "execution_count": null,
      "metadata": {
        "id": "xRcbRgVXAOg1"
      },
      "outputs": [],
      "source": [
        "# Function to extract all tokens about definition of sense\n",
        "def tokenized_gloss(sense):\n",
        "\n",
        "        tokens = set(word_tokenize(sense.definition()))\n",
        "\n",
        "        for example in sense.examples():\n",
        "            tokens.union(set(word_tokenize(example)))\n",
        "\n",
        "        return tokens"
      ]
    },
    {
      "cell_type": "code",
      "execution_count": null,
      "metadata": {
        "id": "Cmzvc1hbAOre"
      },
      "outputs": [],
      "source": [
        "# Function to compute the overlap of words\n",
        "def compute_overlap(signature, context, stopwords):\n",
        "\n",
        "        gloss = signature.difference(stopwords)\n",
        "\n",
        "        return len(gloss.intersection(context))"
      ]
    },
    {
      "cell_type": "code",
      "execution_count": null,
      "metadata": {
        "id": "joG-7uMYAoRM"
      },
      "outputs": [],
      "source": [
        "stopwords = set(stopwords.words('english'))\n",
        "sentence = (\"They eat a meal\")\n",
        "context = set(word_tokenize(sentence))\n",
        "word = 'eat'\n",
        "syn = wordnet.synsets('eat')[1]\n",
        "signature = tokenized_gloss(syn)"
      ]
    },
    {
      "cell_type": "code",
      "execution_count": null,
      "metadata": {
        "colab": {
          "base_uri": "https://localhost:8080/"
        },
        "id": "6yQ2hAegAocT",
        "outputId": "55ee8e22-ab4e-41c9-face-62ae938f0353"
      },
      "outputs": [
        {
          "name": "stdout",
          "output_type": "stream",
          "text": [
            "Word : eat\n",
            "Sense : eat.v.02\n",
            "Definition : eat a meal; take a meal\n",
            "Sentence : They eat a meal\n"
          ]
        }
      ],
      "source": [
        "# Result 1\n",
        "print(\"Word :\", word)\n",
        "print(\"Sense :\", syn.name())\n",
        "print(\"Definition :\", syn.definition())\n",
        "print(\"Sentence :\", sentence)"
      ]
    },
    {
      "cell_type": "code",
      "execution_count": null,
      "metadata": {
        "colab": {
          "base_uri": "https://localhost:8080/"
        },
        "id": "ag7lIwXUAO2m",
        "outputId": "7be8916c-4023-4b56-e7f7-34352145e293"
      },
      "outputs": [
        {
          "name": "stdout",
          "output_type": "stream",
          "text": [
            "{';', 'a', 'eat', 'take', 'meal'}\n",
            "2\n",
            "Best sense:  Synset('eat.v.02')\n"
          ]
        }
      ],
      "source": [
        "# Result 2\n",
        "print(signature)\n",
        "print(compute_overlap(signature, context, stopwords))\n",
        "print(\"Best sense: \", disambiguate(word, sentence, stopwords))"
      ]
    }
  ],
  "metadata": {
    "colab": {
      "provenance": []
    },
    "kernelspec": {
      "display_name": "Python 3",
      "name": "python3"
    },
    "language_info": {
      "name": "python"
    }
  },
  "nbformat": 4,
  "nbformat_minor": 0
}
