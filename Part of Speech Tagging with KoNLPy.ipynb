{
  "cells": [
    {
      "cell_type": "code",
      "execution_count": null,
      "metadata": {
        "colab": {
          "base_uri": "https://localhost:8080/"
        },
        "id": "NHXymvuQpCYP",
        "outputId": "296d3957-f8cd-4508-c9fa-9a72ddccac60"
      },
      "outputs": [],
      "source": [
        "!pip install konlpy\n",
        "from konlpy.tag import Okt\n",
        "from konlpy.tag import Kkma\n",
        "from konlpy.tag import Hannanum\n",
        "from konlpy.tag import Komoran\n",
        "from konlpy.tag import Twitter"
      ]
    },
    {
      "cell_type": "code",
      "execution_count": null,
      "metadata": {
        "colab": {
          "base_uri": "https://localhost:8080/"
        },
        "id": "clRSVhwxuEXc",
        "outputId": "b4e1ba80-6246-4da2-cc10-39a8c0624488"
      },
      "outputs": [],
      "source": [
        "kkma = Kkma()\n",
        "okt = Okt()\n",
        "komoran = Komoran()\n",
        "hannanum = Hannanum()\n",
        "twitter = Twitter()"
      ]
    },
    {
      "cell_type": "code",
      "execution_count": null,
      "metadata": {
        "colab": {
          "base_uri": "https://localhost:8080/"
        },
        "id": "dXFcuJ5RuEZt",
        "outputId": "fb02be13-a5c8-4adb-8045-ee43ff2306cd"
      },
      "outputs": [
        {
          "name": "stdout",
          "output_type": "stream",
          "text": [
            "okt 품사태깅 : [('집', 'Noun'), ('에', 'Josa'), ('가면', 'Noun'), ('감자', 'Noun'), ('좀', 'Noun'), ('쪄줄래', 'Verb'), ('?', 'Punctuation')]\n",
            "kkma 품사태깅 :  [('집', 'NNG'), ('에', 'JKM'), ('가', 'VV'), ('면', 'ECE'), ('감자', 'NNG'), ('좀', 'MAG'), ('찌', 'VV'), ('어', 'ECS'), ('주', 'VXV'), ('ㄹ래', 'EFQ'), ('?', 'SF')]\n",
            "hannanum 품사태깅 :  [('집', 'N'), ('에', 'J'), ('가', 'P'), ('면', 'E'), ('감', 'P'), ('자', 'E'), ('좀', 'M'), ('찌', 'P'), ('어', 'E'), ('줄', 'P'), ('래', 'E'), ('?', 'S')]\n",
            "komoran 품사태깅 :  [('집', 'NNG'), ('에', 'JKB'), ('가', 'VV'), ('면', 'EC'), ('감자', 'NNP'), ('좀', 'MAG'), ('찌', 'VV'), ('어', 'EC'), ('주', 'VX'), ('ㄹ래', 'EF'), ('?', 'SF')]\n",
            "twitter 품사태깅 :  [('집', 'Noun'), ('에', 'Josa'), ('가면', 'Noun'), ('감자', 'Noun'), ('좀', 'Noun'), ('쪄줄래', 'Verb'), ('?', 'Punctuation')]\n"
          ]
        }
      ],
      "source": [
        "# Part of speech tagging comparison 1 using konlpy\n",
        "print(\"okt 품사태깅 : \", okt.pos(u\"집에 가면 감자 좀 쪄줄래?\"))\n",
        "print(\"kkma 품사태깅 : \", kkma.pos(u\"집에 가면 감자 좀 쪄줄래?\"))\n",
        "print(\"hannanum 품사태깅 : \", hannanum.pos(u\"집에 가면 감자 좀 쪄줄래?\"))\n",
        "print(\"komoran 품사태깅 : \", komoran.pos(u\"집에 가면 감자 좀 쪄줄래?\"))\n",
        "print(\"twitter 품사태깅 : \", twitter.pos(u\"집에 가면 감자 좀 쪄줄래?\"))"
      ]
    },
    {
      "cell_type": "code",
      "execution_count": null,
      "metadata": {
        "colab": {
          "base_uri": "https://localhost:8080/"
        },
        "id": "KMultCLZuEce",
        "outputId": "dd635cf4-ded3-464e-ea3a-8dd0adacdb2f"
      },
      "outputs": [
        {
          "name": "stdout",
          "output_type": "stream",
          "text": [
            "okt 품사태깅 : [('아버지', 'Noun'), ('가', 'Josa'), ('방', 'Noun'), ('에', 'Josa'), ('들어', 'Verb'), ('가신다', 'Verb')]\n",
            "kkma 품사태깅 :  [('아버지', 'NNG'), ('가', 'JKS'), ('방', 'NNG'), ('에', 'JKM'), ('듣', 'VV'), ('어', 'ECD'), ('가시', 'VV'), ('ㄴ다', 'EFN')]\n",
            "hannanum 품사태깅 :  [('아버지', 'N'), ('가', 'J'), ('방', 'N'), ('에', 'J'), ('들', 'P'), ('어', 'E'), ('갈', 'P'), ('시ㄴ다', 'E')]\n",
            "komoran 품사태깅 :  [('아버지', 'NNG'), ('가', 'JKS'), ('방', 'NNG'), ('에', 'JKB'), ('들', 'VV'), ('어', 'EC'), ('가시', 'VV'), ('ㄴ다', 'EC')]\n",
            "twitter 품사태깅 :  [('아버지', 'Noun'), ('가', 'Josa'), ('방', 'Noun'), ('에', 'Josa'), ('들어', 'Verb'), ('가신다', 'Verb')]\n"
          ]
        }
      ],
      "source": [
        "# Part of speech tagging comparison 1 using konlpy\n",
        "print(\"okt 품사태깅 : \", okt.pos(u\"아버지가 방에 들어 가신다\"))\n",
        "print(\"kkma 품사태깅 : \", kkma.pos(u\"아버지가 방에 들어 가신다\"))\n",
        "print(\"hannanum 품사태깅 : \", hannanum.pos(u\"아버지가 방에 들어 가신다\"))\n",
        "print(\"komoran 품사태깅 : \", komoran.pos(u\"아버지가 방에 들어 가신다\"))\n",
        "print(\"twitter 품사태깅 : \", twitter.pos(u\"아버지가 방에 들어 가신다\"))"
      ]
    }
  ],
  "metadata": {
    "colab": {
      "provenance": []
    },
    "kernelspec": {
      "display_name": "Python 3",
      "name": "python3"
    },
    "language_info": {
      "name": "python"
    }
  },
  "nbformat": 4,
  "nbformat_minor": 0
}
