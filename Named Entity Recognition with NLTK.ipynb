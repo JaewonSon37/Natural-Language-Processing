{
  "cells": [
    {
      "cell_type": "code",
      "execution_count": null,
      "metadata": {
        "id": "6F4W_Ol-yrgQ"
      },
      "outputs": [],
      "source": [
        "import nltk\n",
        "nltk.download('punkt')\n",
        "nltk.download('words')\n",
        "nltk.download('averaged_perceptron_tagger')\n",
        "nltk.download('maxent_ne_chunker')"
      ]
    },
    {
      "cell_type": "code",
      "execution_count": null,
      "metadata": {
        "id": "GJ-ETIpCSePX"
      },
      "outputs": [],
      "source": [
        "sentence = \"Prime Minister Boris Johnson had previously said the UK would leave by 31 October.\""
      ]
    },
    {
      "cell_type": "code",
      "execution_count": null,
      "metadata": {
        "colab": {
          "base_uri": "https://localhost:8080/"
        },
        "id": "Glt1wZG8SeUE",
        "outputId": "addf8f4f-cdda-488c-ad44-9205ecdf5022"
      },
      "outputs": [
        {
          "name": "stdout",
          "output_type": "stream",
          "text": [
            "['Prime', 'Minister', 'Boris', 'Johnson', 'had', 'previously', 'said', 'the', 'UK', 'would', 'leave', 'by', '31', 'October', '.']\n"
          ]
        }
      ],
      "source": [
        "# Tokenize the sentence\n",
        "tokens = nltk.word_tokenize(sentence)\n",
        "print(tokens)"
      ]
    },
    {
      "cell_type": "code",
      "execution_count": null,
      "metadata": {
        "colab": {
          "base_uri": "https://localhost:8080/"
        },
        "id": "uBWTEZqwSo_5",
        "outputId": "78e01375-57c3-4ae8-9849-120a488a693b"
      },
      "outputs": [
        {
          "name": "stdout",
          "output_type": "stream",
          "text": [
            "[('Prime', 'NNP'), ('Minister', 'NNP'), ('Boris', 'NNP'), ('Johnson', 'NNP'), ('had', 'VBD'), ('previously', 'RB'), ('said', 'VBD'), ('the', 'DT'), ('UK', 'NNP'), ('would', 'MD'), ('leave', 'VB'), ('by', 'IN'), ('31', 'CD'), ('October', 'NNP'), ('.', '.')]\n"
          ]
        }
      ],
      "source": [
        "# Perform part-of-speech tagging\n",
        "tagged = nltk.pos_tag(tokens)\n",
        "print(tagged)"
      ]
    },
    {
      "cell_type": "code",
      "execution_count": null,
      "metadata": {
        "colab": {
          "base_uri": "https://localhost:8080/"
        },
        "id": "8hRYjZJrSotD",
        "outputId": "88f219f3-d873-409c-985e-54d760595491"
      },
      "outputs": [
        {
          "name": "stdout",
          "output_type": "stream",
          "text": [
            "(S\n",
            "  Prime/NNP\n",
            "  Minister/NNP\n",
            "  (PERSON Boris/NNP Johnson/NNP)\n",
            "  had/VBD\n",
            "  previously/RB\n",
            "  said/VBD\n",
            "  the/DT\n",
            "  (ORGANIZATION UK/NNP)\n",
            "  would/MD\n",
            "  leave/VB\n",
            "  by/IN\n",
            "  31/CD\n",
            "  October/NNP\n",
            "  ./.)\n"
          ]
        }
      ],
      "source": [
        "# Extract named entities\n",
        "entities = nltk.chunk.ne_chunk(tagged)\n",
        "print(entities)"
      ]
    }
  ],
  "metadata": {
    "colab": {
      "provenance": []
    },
    "kernelspec": {
      "display_name": "Python 3",
      "name": "python3"
    },
    "language_info": {
      "name": "python"
    }
  },
  "nbformat": 4,
  "nbformat_minor": 0
}
