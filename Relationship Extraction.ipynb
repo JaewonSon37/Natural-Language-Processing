{
  "cells": [
    {
      "cell_type": "code",
      "execution_count": null,
      "metadata": {
        "colab": {
          "base_uri": "https://localhost:8080/"
        },
        "id": "LdEgCfcGD_iI",
        "outputId": "57d9d8a0-7fcc-4670-b03f-c0cfe2e76f0b"
      },
      "outputs": [],
      "source": [
        "import re\n",
        "import nltk\n",
        "nltk.download('ieer')"
      ]
    },
    {
      "cell_type": "code",
      "execution_count": null,
      "metadata": {
        "colab": {
          "base_uri": "https://localhost:8080/"
        },
        "id": "_IIRHg97EJtZ",
        "outputId": "3eeb775b-0d61-4a1b-f0ce-93090828d1cb"
      },
      "outputs": [
        {
          "name": "stdout",
          "output_type": "stream",
          "text": [
            "doc :  <IEERDocument NYT19980315.0063: 'PUBLIC RADIO HOSTS DROP IN AND MAYBE STAY TOO LONG'>\n",
            "[ORG: 'WHYY'] 'in' [LOC: 'Philadelphia']\n",
            "doc :  <IEERDocument NYT19980315.0064: 'IN CYBERSPACE, IS THERE LAW WHERE THERE IS NO LAND?'>\n",
            "[ORG: 'McGlashan &AMP; Sarrail'] 'firm in' [LOC: 'San Mateo']\n",
            "doc :  <IEERDocument NYT19980315.0067: 'THE SITES: TUNING INTO MUSIC ON THE WEB'>\n",
            "[ORG: 'Freedom Forum'] 'in' [LOC: 'Arlington']\n",
            "doc :  <IEERDocument NYT19980315.0069: 'ANALYSIS: TAXING INTERNET SALES _ GOVERNORS VS. TAX FREEDOM ACT'>\n",
            "[ORG: 'Brookings Institution'] ', the research group in' [LOC: 'Washington']\n",
            "doc :  <IEERDocument NYT19980315.0070: 'A SEARCH ENGINE THAT CHARGES FOR TOP BILLING'>\n",
            "[ORG: 'Idealab'] ', a self-described business incubator based in' [LOC: 'Los Angeles']\n",
            "[ORG: 'Open Text'] ', based in' [LOC: 'Waterloo']\n",
            "doc :  <IEERDocument NYT19980315.0071: 'COMING SOON: TV DOCUMENTARIES TO A BOOKSTORE NEAR YOU'>\n",
            "[ORG: 'WGBH'] 'in' [LOC: 'Boston']\n",
            "doc :  <IEERDocument NYT19980315.0072: 'WEATHER'>\n",
            "doc :  <IEERDocument NYT19980315.0073: 'DICAPRIO , CHARISMATIC STAR, BALKS AT TEEN IDOL IMAGE'>\n",
            "doc :  <IEERDocument NYT19980315.0074: \"You've read the book? Now see the television program. Inspired by ``Angela's...\">\n",
            "doc :  <IEERDocument NYT19980315.0084: 'A DIRECTOR WHO DARES, AND TAKES THE HEAT'>\n",
            "[ORG: 'Bastille Opera'] 'in' [LOC: 'Paris']\n",
            "doc :  <IEERDocument NYT19980315.0085: 'ADVERTISING: AFTER 32 YEARS , WELLS BDDP WILL CLOSE'>\n",
            "[ORG: 'Omnicom'] 'in' [LOC: 'New York']\n",
            "[ORG: 'DDB Needham'] 'in' [LOC: 'New York']\n",
            "[ORG: 'Kaplan Thaler Group'] 'in' [LOC: 'New York']\n",
            "[ORG: 'BBDO South'] 'in' [LOC: 'Atlanta']\n",
            "[ORG: 'Georgia-Pacific'] 'in' [LOC: 'Atlanta']\n",
            "doc :  <IEERDocument NYT19980315.0086: \"`THE GIFTS OF THE JEWS': DESERT NOMADS CHANGED THE WORLD WITH THE\">\n",
            "doc :  <IEERDocument NYT19980315.0087: 'MUSICIANS ON BROADWAY TO VOTE ON A CONTRACT'>\n"
          ]
        }
      ],
      "source": [
        "# Search for strings containing specific words\n",
        "IN = re.compile(r'.*\\bin\\b(?!\\b.+ing)')\n",
        "\n",
        "for doc in nltk.corpus.ieer.parsed_docs('NYT_19980315'):\n",
        "  print(\"doc : \", doc)\n",
        "\n",
        "  for rel in nltk.sem.extract_rels('ORG', 'LOC', doc, corpus = 'ieer', pattern = IN):\n",
        "     print(nltk.sem.rtuple(rel))"
      ]
    }
  ],
  "metadata": {
    "colab": {
      "provenance": []
    },
    "kernelspec": {
      "display_name": "Python 3",
      "name": "python3"
    },
    "language_info": {
      "name": "python"
    }
  },
  "nbformat": 4,
  "nbformat_minor": 0
}
