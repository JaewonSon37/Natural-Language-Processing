{
  "cells": [
    {
      "cell_type": "code",
      "execution_count": null,
      "metadata": {
        "colab": {
          "base_uri": "https://localhost:8080/"
        },
        "id": "bd_YkxRDDlFD",
        "outputId": "526c012d-9850-40c7-8228-2e6f92f5496d"
      },
      "outputs": [
        {
          "name": "stdout",
          "output_type": "stream",
          "text": [
            "['고려대학교', '삼성']\n"
          ]
        }
      ],
      "source": [
        "locs = [('고려대학교', 'In', '서울'),\n",
        "        ('Naver', 'In', '성남'),\n",
        "        ('KT 위즈', 'In', '성남'),\n",
        "        ('한화 이글스', 'In', '대전'),\n",
        "        ('NC 소프트', 'In', '성남'),\n",
        "        ('삼성', 'In', '서울')]\n",
        "\n",
        "query = []\n",
        "\n",
        "for (e1, re1, e2) in locs:\n",
        "  if e2 == '서울':\n",
        "    query.append(e1)\n",
        "\n",
        "print(query)"
      ]
    }
  ],
  "metadata": {
    "colab": {
      "provenance": []
    },
    "kernelspec": {
      "display_name": "Python 3",
      "name": "python3"
    },
    "language_info": {
      "name": "python"
    }
  },
  "nbformat": 4,
  "nbformat_minor": 0
}
