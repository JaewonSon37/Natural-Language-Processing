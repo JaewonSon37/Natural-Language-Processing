{
  "cells": [
    {
      "cell_type": "code",
      "execution_count": null,
      "metadata": {
        "colab": {
          "base_uri": "https://localhost:8080/"
        },
        "id": "PG-vAlxYrcLH",
        "outputId": "44a679c5-560d-4ba8-a6cc-e396b3248df0"
      },
      "outputs": [],
      "source": [
        "!pip install nltk == 3.3\n",
        "import nltk"
      ]
    },
    {
      "cell_type": "code",
      "execution_count": null,
      "metadata": {
        "id": "YAyzYF9OCvxz"
      },
      "outputs": [],
      "source": [
        "# Write phrase structure parsing rules\n",
        "grammar = nltk.CFG.fromstring(\"\"\"\n",
        "S -> NP VP\n",
        "NP -> NN XSN JK | NN JK\n",
        "VP -> NP VP | VV EP EF\n",
        "NN -> '아이' | '케이크'\n",
        "XSN -> '들'\n",
        "JK -> '이' | '를'\n",
        "VV -> '먹'\n",
        "EP -> '었'\n",
        "EF -> '다'\n",
        "\"\"\")"
      ]
    },
    {
      "cell_type": "code",
      "execution_count": null,
      "metadata": {
        "id": "hMN6FDgVCv1i"
      },
      "outputs": [],
      "source": [
        "# Create a rule-based parser\n",
        "parser = nltk.ChartParser(grammar)"
      ]
    },
    {
      "cell_type": "code",
      "execution_count": null,
      "metadata": {
        "colab": {
          "base_uri": "https://localhost:8080/"
        },
        "id": "qDj05VHGCv8A",
        "outputId": "0e96b9ae-0095-458a-db29-530615864aa8"
      },
      "outputs": [
        {
          "name": "stdout",
          "output_type": "stream",
          "text": [
            "(S\n",
            "  (NP (NN 아이) (XSN 들) (JK 이))\n",
            "  (VP (NP (NN 케이크) (JK 를)) (VP (VV 먹) (EP 었) (EF 다))))\n"
          ]
        }
      ],
      "source": [
        "# Perform phrase structure parsing\n",
        "sent = ['아이', '들', '이', '케이크', '를', '먹', '었', '다']\n",
        "\n",
        "for tree in parser.parse(sent):\n",
        "  print(tree)"
      ]
    }
  ],
  "metadata": {
    "colab": {
      "provenance": []
    },
    "kernelspec": {
      "display_name": "Python 3",
      "name": "python3"
    },
    "language_info": {
      "name": "python"
    }
  },
  "nbformat": 4,
  "nbformat_minor": 0
}
