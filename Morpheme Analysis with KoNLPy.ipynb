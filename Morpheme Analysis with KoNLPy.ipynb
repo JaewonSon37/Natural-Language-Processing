{
  "cells": [
    {
      "cell_type": "code",
      "execution_count": null,
      "metadata": {
        "colab": {
          "base_uri": "https://localhost:8080/"
        },
        "id": "iRA8WfJC_Ya5",
        "outputId": "4557bf88-1562-4e32-8361-5e158df2c1eb"
      },
      "outputs": [],
      "source": [
        "!pip install konlpy\n",
        "from konlpy.tag import Okt\n",
        "from konlpy.tag import Kkma\n",
        "from konlpy.tag import Hannanum\n",
        "from konlpy.tag import Komoran\n",
        "from konlpy.tag import Twitter"
      ]
    },
    {
      "cell_type": "code",
      "execution_count": null,
      "metadata": {
        "colab": {
          "base_uri": "https://localhost:8080/"
        },
        "id": "KfyeLEFetkth",
        "outputId": "0f15b8ff-de4f-437a-9154-c6e74180ad4c"
      },
      "outputs": [],
      "source": [
        "kkma = Kkma()\n",
        "okt = Okt()\n",
        "komoran = Komoran()\n",
        "hannanum = Hannanum()\n",
        "twitter = Twitter()"
      ]
    },
    {
      "cell_type": "code",
      "execution_count": null,
      "metadata": {
        "colab": {
          "base_uri": "https://localhost:8080/"
        },
        "id": "mn9Pp3s4tk43",
        "outputId": "3a3a840c-5146-440c-c28e-155213822de9"
      },
      "outputs": [
        {
          "name": "stdout",
          "output_type": "stream",
          "text": [
            "okt 형태소 분석 : ['집', '에', '가면', '감자', '좀', '쪄줄래', '?']\n",
            "kkma 형태소 분석 :  ['집', '에', '가', '면', '감자', '좀', '찌', '어', '주', 'ㄹ래', '?']\n",
            "hannanum 형태소 분석 :  ['집', '에', '가', '면', '감', '자', '좀', '찌', '어', '줄', '래', '?']\n",
            "komoran 형태소 분석 :  ['집', '에', '가', '면', '감자', '좀', '찌', '어', '주', 'ㄹ래', '?']\n",
            "twitter 형태소 분석 :  ['집', '에', '가면', '감자', '좀', '쪄줄래', '?']\n"
          ]
        }
      ],
      "source": [
        "# Morpheme analysis 1 using konlpy\n",
        "print(\"okt 형태소 분석 : \", okt.morphs(u\"집에 가면 감자 좀 쪄줄래?\"))\n",
        "print(\"kkma 형태소 분석 : \", kkma.morphs(u\"집에 가면 감자 좀 쪄줄래?\"))\n",
        "print(\"hannanum 형태소 분석 : \", hannanum.morphs(u\"집에 가면 감자 좀 쪄줄래?\"))\n",
        "print(\"komoran 형태소 분석 : \", komoran.morphs(u\"집에 가면 감자 좀 쪄줄래?\"))\n",
        "print(\"twitter 형태소 분석 : \", twitter.morphs(u\"집에 가면 감자 좀 쪄줄래?\"))"
      ]
    },
    {
      "cell_type": "code",
      "execution_count": null,
      "metadata": {
        "colab": {
          "base_uri": "https://localhost:8080/"
        },
        "id": "p93svORetlAB",
        "outputId": "cf603d76-4d8c-429f-d68d-2ced285cec94"
      },
      "outputs": [
        {
          "name": "stdout",
          "output_type": "stream",
          "text": [
            "okt 형태소 분석 : ['아버지', '가방', '에', '들어가신다']\n",
            "kkma 형태소 분석 :  ['아버지', '가방', '에', '들어가', '시', 'ㄴ다']\n",
            "hannanum 형태소 분석 :  ['아버지가방에들어가', '이', '시ㄴ다']\n",
            "komoran 형태소 분석 :  ['아버지', '가방', '에', '들어가', '시', 'ㄴ다']\n",
            "twitter 형태소 분석 :  ['아버지', '가방', '에', '들어가신다']\n"
          ]
        }
      ],
      "source": [
        "# Morpheme analysis 2 using konlpy\n",
        "print(\"okt 형태소 분석 : \", okt.morphs(u\"아버지가방에들어가신다\"))\n",
        "print(\"kkma 형태소 분석 : \", kkma.morphs(u\"아버지가방에들어가신다\"))\n",
        "print(\"hannanum 형태소 분석 : \", hannanum.morphs(u\"아버지가방에들어가신다\"))\n",
        "print(\"komoran 형태소 분석 : \", komoran.morphs(u\"아버지가방에들어가신다\"))\n",
        "print(\"twitter 형태소 분석 : \", twitter.morphs(u\"아버지가방에들어가신다\"))"
      ]
    }
  ],
  "metadata": {
    "colab": {
      "provenance": []
    },
    "kernelspec": {
      "display_name": "Python 3",
      "name": "python3"
    },
    "language_info": {
      "name": "python"
    }
  },
  "nbformat": 4,
  "nbformat_minor": 0
}
